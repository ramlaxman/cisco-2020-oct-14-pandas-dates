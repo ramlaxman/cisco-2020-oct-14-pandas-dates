{
 "cells": [
  {
   "cell_type": "code",
   "execution_count": 1,
   "metadata": {},
   "outputs": [],
   "source": [
    "# (1) Dates and times in general\n",
    "# (2) Dates and times in Pandas -- loading data\n",
    "# (3) Intervals / timedeltas -- creating and calculating\n",
    "# (4) Resampling and aggregate measures"
   ]
  },
  {
   "cell_type": "code",
   "execution_count": 2,
   "metadata": {},
   "outputs": [],
   "source": [
    "# http://files.lerner.co.il/data-science-exercise-files.zip"
   ]
  },
  {
   "cell_type": "markdown",
   "metadata": {},
   "source": [
    "# Two types of data structures for dates and times\n",
    "\n",
    "- timestamp, datetime object: reflects a specific point in time\n",
    "    - your birthday\n",
    "    - your anniversary\n",
    "    - when a meeting is going to happen\n",
    "- timedelta: reflects a span of time — measured in years/months/etc., but no fixed point\n",
    "    - how long is a meeting going to last?\n",
    "    - how many seconds have you been alive?\n",
    "    - how much longer must I sit through this class"
   ]
  },
  {
   "cell_type": "code",
   "execution_count": null,
   "metadata": {},
   "outputs": [],
   "source": []
  }
 ],
 "metadata": {
  "kernelspec": {
   "display_name": "Python 3",
   "language": "python",
   "name": "python3"
  },
  "language_info": {
   "codemirror_mode": {
    "name": "ipython",
    "version": 3
   },
   "file_extension": ".py",
   "mimetype": "text/x-python",
   "name": "python",
   "nbconvert_exporter": "python",
   "pygments_lexer": "ipython3",
   "version": "3.8.6"
  }
 },
 "nbformat": 4,
 "nbformat_minor": 4
}
